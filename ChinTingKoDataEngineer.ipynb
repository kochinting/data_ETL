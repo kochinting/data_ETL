{
 "cells": [
  {
   "cell_type": "markdown",
   "metadata": {},
   "source": [
    "### Chin-Ting Ko 02/09/2018 <br> Data Engineer Challenge###\n",
    "\n",
    "# Part 1: ETL Pipeline and SQL"
   ]
  },
  {
   "cell_type": "code",
   "execution_count": 309,
   "metadata": {},
   "outputs": [
    {
     "data": {
      "text/plain": [
       "<bound method DataFrame.describe of       InvoiceNo  Customer_ID                 Date       Planet  \\\n",
       "0        536365        17850          Dec 01 2010       Abydos   \n",
       "1        536366        17850                40513       Abydos   \n",
       "2        536367        13047           12/01/2010       Abydos   \n",
       "3        536368        13047          Dec 01 2010       Abydos   \n",
       "4        536369        13047           12/01/2010       Abydos   \n",
       "5        536370        12583                40513    Altair IV   \n",
       "6        536371        13748  2010-12-01 09:00:00       Abydos   \n",
       "7        536372        17850                40513       Abydos   \n",
       "8        536373        17850          Dec 01 2010       Abydos   \n",
       "9        536374        15100                40513       Abydos   \n",
       "10       536375        17850                40513       Abydos   \n",
       "11       536376        15291          Dec 01 2010       Abydos   \n",
       "12       536377        17850          Dec 01 2010       Abydos   \n",
       "13       536378        14688  2010-12-01 09:37:00       Abydos   \n",
       "14       536380        17809  2010-12-01 09:41:00       Abydos   \n",
       "15       536381        15311  2010-12-01 09:41:00       Abydos   \n",
       "16       536382        16098                40513       Abydos   \n",
       "17       536384        18074                40513       Abydos   \n",
       "18       536385        17420                40513       Abydos   \n",
       "19       536386        16029          Dec 01 2010       Abydos   \n",
       "20       536387        16029          Dec 01 2010       Abydos   \n",
       "21       536388        16250           12/01/2010       Abydos   \n",
       "22       536389        12431                40513      Anarres   \n",
       "23       536390        17511          Dec 01 2010       Abydos   \n",
       "24       536392        13705  2010-12-01 10:29:00       Abydos   \n",
       "25       536393        13747                40513       Abydos   \n",
       "26       536394        13408          Dec 01 2010       Abydos   \n",
       "27       536395        13767          Dec 01 2010       Abydos   \n",
       "28       536396        17850          Dec 01 2010       Abydos   \n",
       "29       536397        17924          Dec 01 2010       Abydos   \n",
       "...         ...          ...                  ...          ...   \n",
       "24333   C581128        12785           12/07/2011      Dozaria   \n",
       "24334   C581145        17490                40884       Abydos   \n",
       "24335   C581148        12462                40884  Canopus III   \n",
       "24336   C581162        14739                40884       Abydos   \n",
       "24337   C581178        15525                40884       Abydos   \n",
       "24338   C581228        16019          Dec 08 2011       Abydos   \n",
       "24339   C581229        12558          Dec 08 2011       Trisol   \n",
       "24340   C581235        15950           12/08/2011       Abydos   \n",
       "24341   C581305        16933          Dec 08 2011       Abydos   \n",
       "24342   C581316        12523           12/08/2011    Altair IV   \n",
       "24343   C581322        18223          Dec 08 2011       Abydos   \n",
       "24344   C581323        14442  2011-12-08 11:53:00       Katina   \n",
       "24345   C581330        15877  2011-12-08 11:57:00       Abydos   \n",
       "24346   C581384        17673           12/08/2011       Abydos   \n",
       "24347   C581390        13081                40885       Abydos   \n",
       "24348   C581393        16892                40885       Abydos   \n",
       "24349   C581409        12476          Dec 08 2011        Athas   \n",
       "24350   C581460        13078  2011-12-08 18:48:00       Abydos   \n",
       "24351   C581462        12985  2011-12-08 18:51:00       Abydos   \n",
       "24352   C581463        17526           12/08/2011       Abydos   \n",
       "24353   C581464        15951  2011-12-08 18:57:00       Abydos   \n",
       "24354   C581465        15755           12/08/2011       Abydos   \n",
       "24355   C581466        13883          Dec 08 2011       Abydos   \n",
       "24356   C581468        13599           12/08/2011       Abydos   \n",
       "24357   C581470        17924           12/08/2011       Abydos   \n",
       "24358   C581484        16446  2011-12-09 09:27:00       Abydos   \n",
       "24359   C581490        14397          Dec 09 2011       Abydos   \n",
       "24360   C581499        15498                40886       Abydos   \n",
       "24361   C581568        15311          Dec 09 2011       Abydos   \n",
       "24362   C581569        17315          Dec 09 2011       Abydos   \n",
       "\n",
       "                                                Purchase  \n",
       "0      [{'ItemNo': u'85123A', 'UnitPrice': 2.55, 'Des...  \n",
       "1      [{'ItemNo': 22633, 'UnitPrice': 1.85, 'Descrip...  \n",
       "2      [{'ItemNo': 84879, 'UnitPrice': 1.69, 'Descrip...  \n",
       "3      [{'ItemNo': 22960, 'UnitPrice': 4.25, 'Descrip...  \n",
       "4      [{'ItemNo': 21756, 'UnitPrice': 5.95, 'Descrip...  \n",
       "5      [{'ItemNo': 22728, 'UnitPrice': 3.75, 'Descrip...  \n",
       "6      [{'ItemNo': 22086, 'UnitPrice': 2.55, 'Descrip...  \n",
       "7      [{'ItemNo': 22632, 'UnitPrice': 1.85, 'Descrip...  \n",
       "8      [{'ItemNo': u'85123A', 'UnitPrice': 2.55, 'Des...  \n",
       "9      [{'ItemNo': 21258, 'UnitPrice': 10.95, 'Descri...  \n",
       "10     [{'ItemNo': u'85123A', 'UnitPrice': 2.55, 'Des...  \n",
       "11     [{'ItemNo': 22114, 'UnitPrice': 3.45, 'Descrip...  \n",
       "12     [{'ItemNo': 22632, 'UnitPrice': 1.85, 'Descrip...  \n",
       "13     [{'ItemNo': 22386, 'UnitPrice': 1.95, 'Descrip...  \n",
       "14     [{'ItemNo': 22961, 'UnitPrice': 1.45, 'Descrip...  \n",
       "15     [{'ItemNo': 22139, 'UnitPrice': 4.25, 'Descrip...  \n",
       "16     [{'ItemNo': 10002, 'UnitPrice': 0.85, 'Descrip...  \n",
       "17     [{'ItemNo': 82484, 'UnitPrice': 6.45, 'Descrip...  \n",
       "18     [{'ItemNo': 22783, 'UnitPrice': 19.95, 'Descri...  \n",
       "19     [{'ItemNo': 84880, 'UnitPrice': 4.95, 'Descrip...  \n",
       "20     [{'ItemNo': 79321, 'UnitPrice': 3.82, 'Descrip...  \n",
       "21     [{'ItemNo': 21754, 'UnitPrice': 5.95, 'Descrip...  \n",
       "22     [{'ItemNo': 22941, 'UnitPrice': 8.5, 'Descript...  \n",
       "23     [{'ItemNo': 22941, 'UnitPrice': 8.5, 'Descript...  \n",
       "24     [{'ItemNo': 22150, 'UnitPrice': 1.95, 'Descrip...  \n",
       "25     [{'ItemNo': 22180, 'UnitPrice': 9.95, 'Descrip...  \n",
       "26     [{'ItemNo': 21506, 'UnitPrice': 0.42, 'Descrip...  \n",
       "27     [{'ItemNo': 22188, 'UnitPrice': 3.95, 'Descrip...  \n",
       "28     [{'ItemNo': u'85123A', 'UnitPrice': 2.55, 'Des...  \n",
       "29     [{'ItemNo': u'35004B', 'UnitPrice': 4.65, 'Des...  \n",
       "...                                                  ...  \n",
       "24333  [{'ItemNo': u'85099B', 'UnitPrice': 2.08, 'Des...  \n",
       "24334  [{'ItemNo': u'M', 'UnitPrice': 9.95, 'Descript...  \n",
       "24335  [{'ItemNo': 22063, 'UnitPrice': 2.95, 'Descrip...  \n",
       "24336  [{'ItemNo': 84946, 'UnitPrice': 1.06, 'Descrip...  \n",
       "24337  [{'ItemNo': 23079, 'UnitPrice': 8.95, 'Descrip...  \n",
       "24338  [{'ItemNo': 22423, 'UnitPrice': 10.95, 'Descri...  \n",
       "24339  [{'ItemNo': u'85099B', 'UnitPrice': 2.08, 'Des...  \n",
       "24340  [{'ItemNo': 23243, 'UnitPrice': 4.95, 'Descrip...  \n",
       "24341  [{'ItemNo': 22627, 'UnitPrice': 8.5, 'Descript...  \n",
       "24342  [{'ItemNo': 23020, 'UnitPrice': 12.5, 'Descrip...  \n",
       "24343  [{'ItemNo': 22909, 'UnitPrice': 0.85, 'Descrip...  \n",
       "24344  [{'ItemNo': 21533, 'UnitPrice': 4.25, 'Descrip...  \n",
       "24345  [{'ItemNo': 22959, 'UnitPrice': 0.42, 'Descrip...  \n",
       "24346  [{'ItemNo': 51008, 'UnitPrice': 3.45, 'Descrip...  \n",
       "24347  [{'ItemNo': 21733, 'UnitPrice': 2.55, 'Descrip...  \n",
       "24348  [{'ItemNo': 22780, 'UnitPrice': 4.25, 'Descrip...  \n",
       "24349  [{'ItemNo': 84946, 'UnitPrice': 1.25, 'Descrip...  \n",
       "24350  [{'ItemNo': 22197, 'UnitPrice': 0.72, 'Descrip...  \n",
       "24351  [{'ItemNo': 16219, 'UnitPrice': 0.06, 'Descrip...  \n",
       "24352  [{'ItemNo': 85048, 'UnitPrice': 7.95, 'Descrip...  \n",
       "24353  [{'ItemNo': 23458, 'UnitPrice': 14.95, 'Descri...  \n",
       "24354  [{'ItemNo': 23660, 'UnitPrice': 1.65, 'Descrip...  \n",
       "24355  [{'ItemNo': 22838, 'UnitPrice': 14.95, 'Descri...  \n",
       "24356  [{'ItemNo': 21314, 'UnitPrice': 2.1, 'Descript...  \n",
       "24357  [{'ItemNo': 23084, 'UnitPrice': 2.08, 'Descrip...  \n",
       "24358  [{'ItemNo': 23843, 'UnitPrice': 2.08, 'Descrip...  \n",
       "24359  [{'ItemNo': 22178, 'UnitPrice': 1.95, 'Descrip...  \n",
       "24360  [{'ItemNo': u'M', 'UnitPrice': 224.69, 'Descri...  \n",
       "24361  [{'ItemNo': 21258, 'UnitPrice': 10.95, 'Descri...  \n",
       "24362  [{'ItemNo': 84978, 'UnitPrice': 1.25, 'Descrip...  \n",
       "\n",
       "[24363 rows x 5 columns]>"
      ]
     },
     "execution_count": 309,
     "metadata": {},
     "output_type": "execute_result"
    }
   ],
   "source": [
    "import pandas as pd\n",
    "df = pd.read_csv('data.csv')\n",
    "df.describe()"
   ]
  },
  {
   "cell_type": "code",
   "execution_count": 310,
   "metadata": {},
   "outputs": [
    {
     "name": "stdout",
     "output_type": "stream",
     "text": [
      "[{'ItemNo': 22633, 'UnitPrice': 1.85, 'Description': u'BRAWNDO', 'Quantity': 6}, {'ItemNo': 22632, 'UnitPrice': 1.85, 'Description': u'HAND WARMER RED POLKA DOT', 'Quantity': 6}]\n"
     ]
    }
   ],
   "source": [
    "print df['Purchase'][1]"
   ]
  },
  {
   "cell_type": "code",
   "execution_count": 311,
   "metadata": {
    "collapsed": true
   },
   "outputs": [],
   "source": [
    "import ast\n",
    "df['Purchase'] = df['Purchase'].apply(ast.literal_eval)"
   ]
  },
  {
   "cell_type": "code",
   "execution_count": 312,
   "metadata": {
    "collapsed": true
   },
   "outputs": [],
   "source": [
    "df['Purchase']= df['Purchase'].apply(lambda x: json_normalize(x))"
   ]
  },
  {
   "cell_type": "code",
   "execution_count": 313,
   "metadata": {},
   "outputs": [
    {
     "name": "stdout",
     "output_type": "stream",
     "text": [
      "                           Description  ItemNo  Quantity  UnitPrice\n",
      "0                     ADORIAN CROSSBOW  85123A         6       2.55\n",
      "1                  WHITE METAL LANTERN   71053         6       3.39\n",
      "2       CREAM CUPID HEARTS COAT HANGER  84406B         8       2.75\n",
      "3  KNITTED UNION FLAG HOT WATER BOTTLE  84029G         6       3.39\n",
      "4       RED WOOLLY HOTTIE WHITE HEART.  84029E         6       3.39\n",
      "5         SET 7 BABUSHKA NESTING BOXES   22752         2       7.65\n",
      "6    GLASS STAR FROSTED T-LIGHT HOLDER   21730         6       4.25\n"
     ]
    }
   ],
   "source": [
    "print df['Purchase'][0]"
   ]
  },
  {
   "cell_type": "code",
   "execution_count": 314,
   "metadata": {},
   "outputs": [
    {
     "name": "stdout",
     "output_type": "stream",
     "text": [
      "InvoiceNo                                                 536365\n",
      "Customer_ID                                                17850\n",
      "Date                                                 Dec 01 2010\n",
      "Planet                                                    Abydos\n",
      "Purchase                                  Description  ItemNo...\n",
      "Name: 0, dtype: object\n"
     ]
    }
   ],
   "source": [
    "print df.iloc[0]"
   ]
  },
  {
   "cell_type": "code",
   "execution_count": 315,
   "metadata": {},
   "outputs": [
    {
     "name": "stdout",
     "output_type": "stream",
     "text": [
      "0                               Description  ItemNo...\n",
      "1                     Description  ItemNo  Quantity...\n",
      "2                               Description  ItemNo...\n",
      "3                          Description  ItemNo  Qua...\n",
      "4                    Description  ItemNo  Quantity ...\n",
      "Name: Purchase, dtype: object\n"
     ]
    }
   ],
   "source": [
    "print df['Purchase'][:5]"
   ]
  },
  {
   "cell_type": "code",
   "execution_count": 316,
   "metadata": {},
   "outputs": [
    {
     "name": "stdout",
     "output_type": "stream",
     "text": [
      "2173\n"
     ]
    }
   ],
   "source": [
    "null_data = df[df['Customer_ID'].isnull()]\n",
    "print len(null_data)"
   ]
  },
  {
   "cell_type": "code",
   "execution_count": 317,
   "metadata": {},
   "outputs": [
    {
     "name": "stdout",
     "output_type": "stream",
     "text": [
      "0\n"
     ]
    }
   ],
   "source": [
    "null_data = df[df['Purchase'].isnull()]\n",
    "print len(null_data)"
   ]
  },
  {
   "cell_type": "code",
   "execution_count": 318,
   "metadata": {},
   "outputs": [
    {
     "name": "stdout",
     "output_type": "stream",
     "text": [
      "0    <type 'str'>\n",
      "1    <type 'str'>\n",
      "2    <type 'str'>\n",
      "3    <type 'str'>\n",
      "4    <type 'str'>\n",
      "Name: Date, dtype: object\n"
     ]
    }
   ],
   "source": [
    "print df['Date'].apply(lambda x: type(x)) [:5]"
   ]
  },
  {
   "cell_type": "code",
   "execution_count": 319,
   "metadata": {
    "collapsed": true
   },
   "outputs": [],
   "source": [
    "from datetime import datetime  # datetime cleaning\n",
    "df['Date'] = df['Date'].apply(lambda x: datetime.strptime(x, \"%b %d %Y\").strftime(\"%Y-%m-%d\") if str(x)[3]==' ' else x)"
   ]
  },
  {
   "cell_type": "code",
   "execution_count": 320,
   "metadata": {
    "collapsed": true
   },
   "outputs": [],
   "source": [
    "df['Date'] = df['Date'].apply(lambda x: datetime.strptime(x, \"%m/%d/%Y\").strftime(\"%Y-%m-%d\") if str(x)[2]=='/' else x)"
   ]
  },
  {
   "cell_type": "code",
   "execution_count": 321,
   "metadata": {
    "collapsed": true
   },
   "outputs": [],
   "source": [
    "df['Date'] = df['Date'].apply(lambda x: datetime.strptime(x, \"%Y-%m-%d %H:%M:%S\").strftime(\"%Y-%m-%d\") if len(str(x))==19 else x)"
   ]
  },
  {
   "cell_type": "code",
   "execution_count": 322,
   "metadata": {
    "collapsed": true
   },
   "outputs": [],
   "source": [
    "import numpy as np\n",
    "df['Date'] = df['Date'].apply(lambda x: np.nan if len(str(x))==5 else x)"
   ]
  },
  {
   "cell_type": "code",
   "execution_count": 323,
   "metadata": {},
   "outputs": [
    {
     "name": "stdout",
     "output_type": "stream",
     "text": [
      "0    2010-12-01\n",
      "1    2010-12-01\n",
      "2    2010-12-01\n",
      "3    2010-12-01\n",
      "4    2010-12-01\n",
      "Name: Date, dtype: object\n"
     ]
    }
   ],
   "source": [
    "df['Date'] = df['Date'].fillna(method='bfill')\n",
    "print df['Date'] [:5]"
   ]
  },
  {
   "cell_type": "code",
   "execution_count": 324,
   "metadata": {
    "collapsed": true
   },
   "outputs": [],
   "source": [
    "df.to_csv('output.csv')"
   ]
  },
  {
   "cell_type": "markdown",
   "metadata": {},
   "source": [
    "### output.csv is cleaned csv file"
   ]
  },
  {
   "cell_type": "code",
   "execution_count": 326,
   "metadata": {},
   "outputs": [
    {
     "name": "stdout",
     "output_type": "stream",
     "text": [
      "  InvoiceNo  Customer_ID        Date  Planet  \\\n",
      "0    536365        17850  2010-12-01  Abydos   \n",
      "1    536366        17850  2010-12-01  Abydos   \n",
      "2    536367        13047  2010-12-01  Abydos   \n",
      "\n",
      "                                            Purchase  \n",
      "0                             Description  ItemNo...  \n",
      "1                   Description  ItemNo  Quantity...  \n",
      "2                             Description  ItemNo...  \n"
     ]
    }
   ],
   "source": [
    "print df.iloc[:3]"
   ]
  },
  {
   "cell_type": "code",
   "execution_count": 485,
   "metadata": {
    "collapsed": true
   },
   "outputs": [],
   "source": [
    "df['Customer_ID'] = df['Customer_ID'].astype(str).apply(lambda x: x[:-2])"
   ]
  },
  {
   "cell_type": "code",
   "execution_count": 486,
   "metadata": {
    "collapsed": true
   },
   "outputs": [],
   "source": [
    "df2 = df.set_index(['InvoiceNo', 'Customer_ID', 'Date', 'Planet'])"
   ]
  },
  {
   "cell_type": "code",
   "execution_count": 487,
   "metadata": {},
   "outputs": [
    {
     "name": "stdout",
     "output_type": "stream",
     "text": [
      "('536366', '17850', '2010-12-01', 'Abydos')\n"
     ]
    }
   ],
   "source": [
    "print df2.index[1]"
   ]
  },
  {
   "cell_type": "code",
   "execution_count": 488,
   "metadata": {},
   "outputs": [
    {
     "name": "stdout",
     "output_type": "stream",
     "text": [
      "INSERT INTO Orders (InvoiceNo, Customer_ID, Date, Planet, Description, ItemNo, Quantity, UnitPrice) VALUES ('536365', '17850', '2010-12-01', 'Abydos', 'ADORIAN CROSSBOW', '85123A', 6, 2.55);\n",
      "INSERT INTO Orders (InvoiceNo, Customer_ID, Date, Planet, Description, ItemNo, Quantity, UnitPrice) VALUES ('536365', '17850', '2010-12-01', 'Abydos', 'WHITE METAL LANTERN', '71053', 6, 3.39);\n",
      "INSERT INTO Orders (InvoiceNo, Customer_ID, Date, Planet, Description, ItemNo, Quantity, UnitPrice) VALUES ('536365', '17850', '2010-12-01', 'Abydos', 'CREAM CUPID HEARTS COAT HANGER', '84406B', 8, 2.75);\n",
      "INSERT INTO Orders (InvoiceNo, Customer_ID, Date, Planet, Description, ItemNo, Quantity, UnitPrice) VALUES ('536365', '17850', '2010-12-01', 'Abydos', 'KNITTED UNION FLAG HOT WATER BOTTLE', '84029G', 6, 3.39);\n",
      "INSERT INTO Orders (InvoiceNo, Customer_ID, Date, Planet, Description, ItemNo, Quantity, UnitPrice) VALUES ('536365', '17850', '2010-12-01', 'Abydos', 'RED WOOLLY HOTTIE WHITE HEART.', '84029E', 6, 3.39);\n",
      "INSERT INTO Orders (InvoiceNo, Customer_ID, Date, Planet, Description, ItemNo, Quantity, UnitPrice) VALUES ('536365', '17850', '2010-12-01', 'Abydos', 'SET 7 BABUSHKA NESTING BOXES', '22752', 2, 7.65);\n",
      "INSERT INTO Orders (InvoiceNo, Customer_ID, Date, Planet, Description, ItemNo, Quantity, UnitPrice) VALUES ('536365', '17850', '2010-12-01', 'Abydos', 'GLASS STAR FROSTED T-LIGHT HOLDER', '21730', 6, 4.25);\n"
     ]
    }
   ],
   "source": [
    "for index, row in df2.iloc[:1].iterrows():  # test SQL insert script\n",
    "    for x in row['Purchase'].iterrows():\n",
    "        print 'INSERT INTO Orders (InvoiceNo, Customer_ID, Date, Planet, Description, ItemNo, Quantity, UnitPrice) VALUES ('+str(index)[1:-1]+\", '\"+ str(x[1]['Description'])+\"', '\"+ str(x[1]['ItemNo'])+\"', \"+ str(x[1]['Quantity'])+\", \"+ str(x[1]['UnitPrice'])+');'"
   ]
  },
  {
   "cell_type": "code",
   "execution_count": 501,
   "metadata": {},
   "outputs": [
    {
     "name": "stdout",
     "output_type": "stream",
     "text": [
      "INSERT INTO Orders (InvoiceNo, Customer_ID, Date, Planet) VALUES ('536365', '17850', '2010-12-01', 'Abydos');\n",
      "INSERT INTO Orders (InvoiceNo, Customer_ID, Date, Planet) VALUES ('536366', '17850', '2010-12-01', 'Abydos');\n",
      "INSERT INTO Orders (InvoiceNo, Customer_ID, Date, Planet) VALUES ('536367', '13047', '2010-12-01', 'Abydos');\n",
      "INSERT INTO Orders (InvoiceNo, Customer_ID, Date, Planet) VALUES ('536368', '13047', '2010-12-01', 'Abydos');\n",
      "INSERT INTO Orders (InvoiceNo, Customer_ID, Date, Planet) VALUES ('536369', '13047', '2010-12-01', 'Abydos');\n",
      "INSERT INTO Orders (InvoiceNo, Customer_ID, Date, Planet) VALUES ('536370', '12583', '2010-12-01', 'Altair IV');\n",
      "INSERT INTO Orders (InvoiceNo, Customer_ID, Date, Planet) VALUES ('536371', '13748', '2010-12-01', 'Abydos');\n",
      "INSERT INTO Orders (InvoiceNo, Customer_ID, Date, Planet) VALUES ('536372', '17850', '2010-12-01', 'Abydos');\n",
      "INSERT INTO Orders (InvoiceNo, Customer_ID, Date, Planet) VALUES ('536373', '17850', '2010-12-01', 'Abydos');\n",
      "INSERT INTO Orders (InvoiceNo, Customer_ID, Date, Planet) VALUES ('536374', '15100', '2010-12-01', 'Abydos');\n"
     ]
    }
   ],
   "source": [
    "for index, row in df.iloc[:10].iterrows():\n",
    "    print \"INSERT INTO Orders (InvoiceNo, Customer_ID, Date, Planet) VALUES ('\"+ row['InvoiceNo']+\"', '\"+ row['Customer_ID']+\"', '\"+ row['Date']+\"', '\"+ row['Planet']+\"');\""
   ]
  },
  {
   "cell_type": "code",
   "execution_count": 506,
   "metadata": {
    "scrolled": true
   },
   "outputs": [
    {
     "name": "stdout",
     "output_type": "stream",
     "text": [
      "INSERT INTO Products_Orders (ItemNo, Quantity, UnitPrice) VALUES ('85123A', 6, 2.55);\n",
      "INSERT INTO Products_Orders (ItemNo, Quantity, UnitPrice) VALUES ('71053', 6, 3.39);\n",
      "INSERT INTO Products_Orders (ItemNo, Quantity, UnitPrice) VALUES ('84406B', 8, 2.75);\n",
      "INSERT INTO Products_Orders (ItemNo, Quantity, UnitPrice) VALUES ('84029G', 6, 3.39);\n",
      "INSERT INTO Products_Orders (ItemNo, Quantity, UnitPrice) VALUES ('84029E', 6, 3.39);\n",
      "INSERT INTO Products_Orders (ItemNo, Quantity, UnitPrice) VALUES ('22752', 2, 7.65);\n",
      "INSERT INTO Products_Orders (ItemNo, Quantity, UnitPrice) VALUES ('21730', 6, 4.25);\n"
     ]
    }
   ],
   "source": [
    "for index, row in df2.iloc[:1].iterrows():\n",
    "    for x in row['Purchase'].iterrows():\n",
    "        print \"INSERT INTO Products_Orders (ItemNo, Quantity, UnitPrice) VALUES ('\"+ str(x[1]['ItemNo'])+\"', \"+ str(x[1]['Quantity'])+\", \"+ str(x[1]['UnitPrice'])+\");\"\n",
    "        "
   ]
  },
  {
   "cell_type": "code",
   "execution_count": 511,
   "metadata": {},
   "outputs": [
    {
     "name": "stdout",
     "output_type": "stream",
     "text": [
      "INSERT INTO Products (ItemNo, Description) VALUES ('85123A', 'ADORIAN CROSSBOW';\n",
      "INSERT INTO Products (ItemNo, Description) VALUES ('71053', 'WHITE METAL LANTERN';\n",
      "INSERT INTO Products (ItemNo, Description) VALUES ('84406B', 'CREAM CUPID HEARTS COAT HANGER';\n",
      "INSERT INTO Products (ItemNo, Description) VALUES ('84029G', 'KNITTED UNION FLAG HOT WATER BOTTLE';\n",
      "INSERT INTO Products (ItemNo, Description) VALUES ('84029E', 'RED WOOLLY HOTTIE WHITE HEART.';\n",
      "INSERT INTO Products (ItemNo, Description) VALUES ('22752', 'SET 7 BABUSHKA NESTING BOXES';\n",
      "INSERT INTO Products (ItemNo, Description) VALUES ('21730', 'GLASS STAR FROSTED T-LIGHT HOLDER';\n",
      "INSERT INTO Products (ItemNo, Description) VALUES ('22633', 'BRAWNDO';\n",
      "INSERT INTO Products (ItemNo, Description) VALUES ('22632', 'HAND WARMER RED POLKA DOT';\n"
     ]
    }
   ],
   "source": [
    "products = []\n",
    "for index, row in df2.iloc[:2].iterrows(): # only return unique product list\n",
    "    for x in row['Purchase'].iterrows():\n",
    "        if str(x[1]['ItemNo']) not in products:\n",
    "            products.append(str(x[1]['ItemNo']))\n",
    "            print \"INSERT INTO Products (ItemNo, Description) VALUES ('\"+ str(x[1]['ItemNo'])+\"', '\"+ str(x[1]['Description'])+\"';\"\n",
    "        "
   ]
  },
  {
   "cell_type": "markdown",
   "metadata": {},
   "source": [
    "### Please give us the SQL code you write to create the database/tables.\n",
    "**I only created three tables: orders, products, and products_orders (for many to many relationship)\n",
    "<br>I didn't create customer and planet tables, to avoid too many joins**\n",
    "\n",
    "CREATE TABLE `Products_Orders`.`Orders` (<br>\n",
    "  `idOrders` INT NOT NULL,<br>\n",
    "  `InvoiceNo` VARCHAR(45) NULL,<br>\n",
    "  `Customer_ID` VARCHAR(45) NULL,<br>\n",
    "  `Dates` VARCHAR(45) NULL,<br>\n",
    "  `Planet` VARCHAR(45) NULL,<br>\n",
    "  PRIMARY KEY (`idOrders`));<br>\n",
    "  <br>\n",
    "ALTER TABLE `Products_Orders`.`Orders`<br> \n",
    "CHANGE COLUMN `idOrders` `idOrders` INT(11) NOT NULL AUTO_INCREMENT ;<br>\n",
    "\n",
    "CREATE TABLE `Products_Orders`.`Products` (<br>\n",
    "  `idProducts` INT NOT NULL,<br>\n",
    "  `ItemNo` VARCHAR(45) NULL,<br>\n",
    "  `Description` VARCHAR(45) NULL,<br>\n",
    "  PRIMARY KEY (`idProducts`));<br>\n",
    "<br>\n",
    "ALTER TABLE `Products_Orders`.`Poducts` <br>\n",
    "CHANGE COLUMN `idProducts` `idProducts` INT(11) NOT NULL AUTO_INCREMENT ;<br>\n",
    "<br>\n",
    "CREATE TABLE `Products_Orders`.`Products_Orders` (<br>\n",
    "  `idProducts_Orders` INT NOT NULL,<br>\n",
    "  `ItemNo` VARCHAR(45) NULL,<br>\n",
    "  `Quantity` VARCHAR(45) NULL,<br>\n",
    "   `UnitPrice` VARCHAR(45) NULL,<br>\n",
    "  PRIMARY KEY (`idProducts_Orders`));<br>\n",
    "  <br>\n",
    "ALTER TABLE `Products_Orders`.`Products_Orders` <br>\n",
    "CHANGE COLUMN `idProducts_Orders` `idProducts_Orders` INT(11) NOT NULL AUTO_INCREMENT ;<br>"
   ]
  },
  {
   "cell_type": "code",
   "execution_count": 522,
   "metadata": {
    "collapsed": true
   },
   "outputs": [],
   "source": [
    "file1 = open(\"insert_orders.txt\",\"w\") # final insert script txt file for ORDER table\n",
    "\n",
    "for index, row in df.iterrows():\n",
    "    file1.write(\"INSERT INTO Products_Orders.Orders(InvoiceNo, Customer_ID, Dates, Planet) VALUES ('\"+ row['InvoiceNo']+\"', '\"+ row['Customer_ID']+\"', '\"+ row['Date']+\"', '\"+ row['Planet']+\"');\\n\")\n",
    " \n",
    "file1.close()"
   ]
  },
  {
   "cell_type": "code",
   "execution_count": 528,
   "metadata": {
    "collapsed": true
   },
   "outputs": [],
   "source": [
    "from django.utils.encoding import smart_str, smart_unicode \n",
    "file2 = open(\"insert_products_orders.txt\",\"w\")  # final insert script txt file for PRODUCT_ORDER table\n",
    "\n",
    "for index, row in df2.iterrows():\n",
    "    for x in row['Purchase'].iterrows():\n",
    "        file2.write(\"INSERT INTO Products_Orders.Products_Orders(ItemNo, Quantity, UnitPrice, InvoiceNo) VALUES ('\"+ smart_str(x[1]['ItemNo'])+\"', \"+ smart_str(x[1]['Quantity'])+\", \"+ smart_str(x[1]['UnitPrice'])+\", \"+ str(index)[1:9]+\");\\n\")\n",
    "        \n",
    "file2.close()"
   ]
  },
  {
   "cell_type": "code",
   "execution_count": 525,
   "metadata": {
    "collapsed": true
   },
   "outputs": [],
   "source": [
    "file3 = open(\"insert_products.txt\",\"w\") \n",
    "\n",
    "products = []\n",
    "for index, row in df2.iterrows():  # final insert script txt file for PRODUCT table\n",
    "    for x in row['Purchase'].iterrows():\n",
    "        if smart_str(x[1]['ItemNo']) not in products:\n",
    "            products.append(smart_str(x[1]['ItemNo']))\n",
    "            file3.write(\"INSERT INTO Products_Orders.Products(ItemNo, Description) VALUES ('\"+ smart_str(x[1]['ItemNo'])+\"', '\"+ smart_str(x[1]['Description']).replace(\"'\",\"\")+\"');\\n\")\n",
    "        \n",
    "file3.close()"
   ]
  },
  {
   "cell_type": "markdown",
   "metadata": {},
   "source": [
    "Please write SQL queries to answer the following questions. Give us both your SQL query and your answer. Specify any assumptions you make.\n",
    "\n",
    "### 1. How many unique customers does the Bebop have?\n",
    "\n",
    "SELECT COUNT(DISTINCT Customer_ID) FROM PRODUCTS_ORDERS.ORDERS;**<br>\n",
    "<br>\n",
    "COUNT(DISTINCT Customer_ID)<br>\n",
    "  4373<br>\n",
    "\n",
    "\n",
    "### 2. Which customer is the second biggest customer by revenue, excluding cancellations?\n",
    "\n",
    "SELECT O.Customer_ID, SUM(P_O.Quantity * P_O.UnitPrice) AS Revenue FROM PRODUCTS_ORDERS.PRODUCTS_ORDERS AS P_O \n",
    "<br>JOIN PRODUCTS_ORDERS.ORDERS AS O ON P_O.InvoiceNo = O.InvoiceNo GROUP BY O.Customer_ID<br> ORDER BY Revenue DESC LIMIT 3;<br>\n",
    "<br>\n",
    "Customer_ID, Revenue<br>\n",
    "n, 1744214.579740148 <-- n is Null Customer_ID<br>\n",
    "18102, 259657.2984648943 <-- Top 1<br>\n",
    "14646, 280206.0194363296 <-- Top 2<br>\n",
    "\n",
    "### 3. How many customers have visited the Bebop on multiple planets?\n",
    "\n",
    "SELECT COUNT(TEMP.Customer_ID) FROM (SELECT Customer_ID, COUNT(planet) FROM PRODUCTS_ORDERS.ORDERS <br>GROUP BY Customer_ID HAVING COUNT(planet) > 1 )AS TEMP;<br>\n",
    "<br>\n",
    "COUNT(TEMP.Customer_ID)<br>\n",
    "3060<br>\n",
    "\n",
    "\n",
    "### 4. Which product has had the most price changes?\n",
    "\n",
    "<br>SELECT ItemNo, MAX(UnitPrice) - MIN(UnitPrice) AS PriceChange FROM PRODUCTS_ORDERS.PRODUCTS_ORDERS <br>GROUP By ItemNo ORDER BY PriceChange DESC LIMIT 1;<br>\n",
    "<br>\n",
    "ItemNo, PriceChange<br>\n",
    "AMAZONFEE, 13321.570083618164<br>\n",
    "\n",
    "\n",
    "### 5. Which item attracts the most new customers?\n",
    "\n",
    "SELECT ItemNo, SUM(Quantity) FROM PRODUCTS_ORDERS.PRODUCTS_ORDERS GROUP BY ItemNo ORDER BY SUM(Quantity) DESC;<br>\n",
    "<br>\n",
    "ItemNo, SUM(Quantity)<br>\n",
    "  23843, 80995<br>\n",
    "\n",
    "\n",
    "### 6. Which customer has the shortest average length of time between purchases?\n",
    "\n",
    "SELECT Customer_ID, MAX(Dates) - MIN(Dates)/ COUNT(Dates) FROM PRODUCTS_ORDERS.ORDERS GROUP BY Customer_ID;<br>\n",
    "<br>\n",
    "Customer_ID, LengthOfTime, Count(Dates), Min(Dates), MAX(Dates)<br>\n",
    "18176, 1005, 2, 2010-12-16, 2010-12-21<br>\n",
    "13370, 1005, 2, 2010-12-03, 2010-12-08<br>\n",
    "15880, 1005, 2, 2010-12-05, 2010-12-05<br>\n",
    "13295, 1005, 2, 2010-12-02, 2010-12-15<br>\n",
    "15922, 1005, 2, 2010-12-01, 2010-12-02<br>\n",
    "14813, 1005, 2, 2010-12-05, 2010-12-05<br>\n",
    "15221, 1005, 2, 2010-12-05, 2010-12-08<br>\n",
    "16781, 1005, 2, 2010-12-02, 2010-12-09<br>\n",
    "17691, 1005, 2, 2010-12-06, 2010-12-16<br>\n",
    "18269, 1005, 2, 2010-12-08, 2010-12-16<br>\n",
    "16858, 1005, 2, 2010-12-06, 2010-12-08<br>\n",
    "13369, 1005, 2, 2010-12-09, 2010-12-20<br>\n",
    "15279, 1005, 2, 2010-12-09, 2010-12-20<br>\n",
    "\n",
    "\n",
    "### 7. For each invoice, calculate the total revenue for each item and return the combined revenue of the top 3 items by revenue. You can ignore invoices that have fewer than 3 items.\n",
    "\n",
    "SELECT P_O1.InvoiceNo, SUM(Quantity * UnitPrice) <br>\n",
    "FROM PRODUCTS_ORDERS.PRODUCTS_ORDERS AS P_O1 <br>\n",
    "WHERE 3 ><br>\n",
    "(SELECT COUNT(Quantity * UnitPrice) <br>\n",
    "FROM PRODUCTS_ORDERS.PRODUCTS_ORDERS AS P_O2<br>\n",
    "WHERE P_O2.Quantity * UnitPrice > P_O1.Quantity * UnitPrice <br>\n",
    "and P_O1.InvoiceNo = P_O2.InvoiceNo)<br>\n",
    "GROUP BY InvoiceNo ORDER BY InvoiceNo<br>\n",
    "<br>\n",
    "InvoiceNo, SUM(Quantity * UnitPrice)<br>\n",
    "536365, 123.82000160217285<br>\n",
    "536366, 22.200000286102295<br>\n",
    "536367, 84.08000183105469<br>\n",
    "536368, 70.04999828338623<br>\n",
    "536369, 17.84999942779541<br>\n",
    "536370, 64.2000002861023<br>\n",
    "536371, 203.99999618530273<br>\n",
    "536372, 22.200000286102295<br>\n",
    "536373, 206.85999822616577<br>\n",
    "...<br>\n"
   ]
  },
  {
   "cell_type": "markdown",
   "metadata": {},
   "source": [
    "# Part 2: MongoDB"
   ]
  },
  {
   "cell_type": "markdown",
   "metadata": {},
   "source": [
    "Please write MongoDB queries to do the following. For questions 2 and 3, please provide only a sample query. Please give us your MongoDB scripts.\n",
    "\n",
    "### 1. Create a collection for the transaction log and insert one example invoice as a document into the collection. You do not need to load the entire collection.\n",
    "\n",
    "db.createCollection(\"Products_Orders\") <br>\n",
    "\n",
    "db.Products_Orders.insert(<br>\n",
    "   { InvoiceNo : '536365', <br>\n",
    "     Customer_ID : '17850', <br>\n",
    "     Date : '2010-12-01', <br>\n",
    "     Planet : 'Abydos'<br>\n",
    "     Purchase: { ItemNo: '85123A',<br>\n",
    "                 UnitPrice: 2.55,<br>\n",
    "                 Description: 'ADORIAN CROSSBOW',<br>\n",
    "                 Quantity: 6<br>\n",
    "     }\n",
    "   } \n",
    ")\n",
    "\n",
    "### 2. How many unique weapons does the Bebop have?\n",
    "\n",
    "db.collection.distinct('Purchase'.'ItemNo').length<br>\n",
    "3958<br>\n",
    "\n",
    "### 3. Which customer is the second biggest customer by revenue, excluding cancellations?\n",
    "\n",
    "db.Products_Orders.aggregate(<br>\n",
    "    {\"\\$group\": <br>\n",
    "         \\{_id: \"\\$Customer_ID\"},<br>\n",
    "           revenue : {\\$sum : \"\\$Purchase\".\"\\$Quantity\" * \"\\$Purchase\".\"\\$UnitPrice\"}}, <br>\n",
    "    {\\$sort: {\"revenue\": -1}}, <br>\n",
    "    {\\$limit: 2} <br>\n",
    ")<br>\n",
    "<br>\n",
    "Customer_ID, Revenue <br>\n",
    "14646, 280206.0194363296 <-- Top 2<br>"
   ]
  },
  {
   "cell_type": "markdown",
   "metadata": {},
   "source": [
    "# Part 3: Runtime Analysis in Python"
   ]
  },
  {
   "cell_type": "markdown",
   "metadata": {},
   "source": [
    "### 1. In plain English, explain what this function does.\n",
    "\n",
    "This function (mystery) is to return list of duplicate values in input array.\n",
    "\n",
    "### 2. Describe the runtime of this code as a function of the length of the input array. Please explain your answer. (Bonus points for showing that your bound is tight.)\n",
    "\n",
    "N: length of input array\n",
    "Runtime is O(N^2), since there are two nested for loop.\n",
    "For 1st loop i iterates from 0~N, and 2nd loop j also iterates from 0~N\n",
    "so O(N) * O(N) = O(N^2)\n",
    "\n",
    "### 3. Write a more efficient implementation of this function. Please do not use any import statements.\n"
   ]
  },
  {
   "cell_type": "code",
   "execution_count": 219,
   "metadata": {},
   "outputs": [
    {
     "name": "stdout",
     "output_type": "stream",
     "text": [
      "[5, 1, 4]\n",
      "[1, 4, 5]\n"
     ]
    }
   ],
   "source": [
    "list1 = [5,1,1,2,3,4,4,4,4,5]\n",
    "         \n",
    "def mystery(array):\n",
    "    mylist = []\n",
    "    for i in range(len(array)):\n",
    "        for j in range(len(array)):\n",
    "            elem1 = array[i]\n",
    "            elem2 = array[j]\n",
    "            if elem1 == elem2 and i != j:\n",
    "                if elem2 not in mylist:\n",
    "                    mylist.append(elem2)\n",
    "    return mylist\n",
    "\n",
    "print mystery(list1)\n",
    "\n",
    "def duplicate(array):\n",
    "    mydict = {}\n",
    "    mylist = []\n",
    "\n",
    "    for i in range(len(array)):\n",
    "        if array[i] not in mydict:\n",
    "            mydict[array[i]] = 1\n",
    "        else:\n",
    "            mydict[array[i]] += 1\n",
    "\n",
    "    for k, v in mydict.items():\n",
    "        if v > 1:\n",
    "            mylist.append(k)\n",
    "\n",
    "    return mylist\n",
    "\n",
    "print duplicate(list1)"
   ]
  },
  {
   "cell_type": "markdown",
   "metadata": {},
   "source": [
    "### 4. Describe the runtime of your implementation as a function of the length of the input array. Please explain your answer.\n",
    "\n",
    "N: length of input array\n",
    "Since there is no nested loop, the run time reduced to O(N)\n",
    "\n",
    "### 5. In plain English, explain how your implementation differs from the one\n",
    "\n",
    "I used a dictionary to count the array element count. If the count > 1, it means duplicate.\n",
    "Then append duplicated element to mylist. \n",
    "The original mystery function is brute force method to iterate all possible combinations of two elements, then add duplicate element to mylist."
   ]
  }
 ],
 "metadata": {
  "kernelspec": {
   "display_name": "Python 2",
   "language": "python",
   "name": "python2"
  },
  "language_info": {
   "codemirror_mode": {
    "name": "ipython",
    "version": 2
   },
   "file_extension": ".py",
   "mimetype": "text/x-python",
   "name": "python",
   "nbconvert_exporter": "python",
   "pygments_lexer": "ipython2",
   "version": "2.7.12"
  }
 },
 "nbformat": 4,
 "nbformat_minor": 2
}
